{
 "cells": [
  {
   "cell_type": "code",
   "execution_count": 1,
   "metadata": {},
   "outputs": [],
   "source": [
    "import pandas as pd\n",
    "import numpy as np\n",
    "from squad_df import v2\n",
    "from collections import Counter, defaultdict\n",
    "from blingfire import text_to_words\n",
    "from tqdm import tqdm_notebook\n",
    "\n",
    "def build(df):\n",
    "\n",
    "    df = df[['question', 'context']]\n",
    "\n",
    "    passages = list(set(df.context.values))\n",
    "    ptoi = {p: i for i, p in enumerate(passages)}\n",
    "    itop = {i: p for p, i in ptoi.items()}\n",
    "\n",
    "    dataset = []\n",
    "    for _, row in df.iterrows():\n",
    "        dataset.append((row.question, ptoi[row.context], row.context))\n",
    "    return  pd.DataFrame(dataset, columns=['question', 'ctxid', 'relevant']), ptoi, itop, passages"
   ]
  },
  {
   "cell_type": "code",
   "execution_count": 2,
   "metadata": {},
   "outputs": [],
   "source": [
    "df = pd.DataFrame(list(v2))\n",
    "df = df.loc[df.is_train]\n",
    "all_letters = [letter for letter, count in Counter(''.join(df.context).lower()).items() if count > 1000]"
   ]
  },
  {
   "cell_type": "code",
   "execution_count": 3,
   "metadata": {},
   "outputs": [],
   "source": [
    "class WordIdf:\n",
    "    def __init__(self, ngrams=3):\n",
    "        self.ngrams = ngrams\n",
    "        global all_letters\n",
    "        self.grams = list(self._make_grams(all_letters, self.ngrams))\n",
    "        self.gram_length = len(self.grams)\n",
    "        self.gram_to_index = {gram: index for index, gram in enumerate(self.grams)}\n",
    "        \n",
    "    def _make_grams(self, letters, n):\n",
    "        for pre in letters:\n",
    "            yield pre\n",
    "            if n > 1:\n",
    "                for post in self._make_grams(letters, n-1):\n",
    "                    yield pre + post\n",
    "    \n",
    "    def __getitem__(self, word, cache={}):\n",
    "        if word not in cache:\n",
    "            vec = np.zeros(self.gram_length)\n",
    "            for gram in self._make_grams(word, self.ngrams):\n",
    "                if gram in self.gram_to_index:\n",
    "                    vec[self.gram_to_index[gram]] += 1\n",
    "            cache[word] = vec\n",
    "        return cache[word].copy()\n",
    "    \n",
    "    def fit_transform(self, docs):\n",
    "        self.idf = defaultdict(int)\n",
    "        tokenized = {}\n",
    "        for doc in docs:\n",
    "            tokenized[doc] = list(text_to_words(doc))\n",
    "            vec = []\n",
    "            for word in set(tokenized[doc]):\n",
    "                self.idf[word] += 1\n",
    "        docvecs = []\n",
    "        for doc in tqdm_notebook(docs):\n",
    "            vec = None\n",
    "            for word, count in Counter(tokenized[doc]).items():\n",
    "                v = (self.__getitem__(word) * count) / (1 + self.idf[word])\n",
    "                if vec is not None:\n",
    "                    vec += v\n",
    "                else:\n",
    "                    vec = v\n",
    "            docvecs.append(vec)\n",
    "        return docvecs"
   ]
  },
  {
   "cell_type": "code",
   "execution_count": 4,
   "metadata": {},
   "outputs": [],
   "source": [
    "vec = WordIdf()"
   ]
  },
  {
   "cell_type": "code",
   "execution_count": 5,
   "metadata": {},
   "outputs": [],
   "source": [
    "docs = list(set(df.context))"
   ]
  },
  {
   "cell_type": "code",
   "execution_count": 6,
   "metadata": {},
   "outputs": [
    {
     "data": {
      "application/vnd.jupyter.widget-view+json": {
       "model_id": "4dcc81d91c9c432aae2075942310ad31",
       "version_major": 2,
       "version_minor": 0
      },
      "text/plain": [
       "HBox(children=(IntProgress(value=0, max=19029), HTML(value='')))"
      ]
     },
     "metadata": {},
     "output_type": "display_data"
    },
    {
     "ename": "KeyboardInterrupt",
     "evalue": "",
     "output_type": "error",
     "traceback": [
      "\u001b[0;31m---------------------------------------------------------------------------\u001b[0m",
      "\u001b[0;31mKeyboardInterrupt\u001b[0m                         Traceback (most recent call last)",
      "\u001b[0;32m<ipython-input-6-880c13a8c488>\u001b[0m in \u001b[0;36m<module>\u001b[0;34m\u001b[0m\n\u001b[0;32m----> 1\u001b[0;31m \u001b[0mx\u001b[0m \u001b[0;34m=\u001b[0m \u001b[0mvec\u001b[0m\u001b[0;34m.\u001b[0m\u001b[0mfit_transform\u001b[0m\u001b[0;34m(\u001b[0m\u001b[0mdocs\u001b[0m\u001b[0;34m)\u001b[0m\u001b[0;34m\u001b[0m\u001b[0m\n\u001b[0m",
      "\u001b[0;32m<ipython-input-3-09fd54b31f64>\u001b[0m in \u001b[0;36mfit_transform\u001b[0;34m(self, docs)\u001b[0m\n\u001b[1;32m     35\u001b[0m             \u001b[0mvec\u001b[0m \u001b[0;34m=\u001b[0m \u001b[0;32mNone\u001b[0m\u001b[0;34m\u001b[0m\u001b[0m\n\u001b[1;32m     36\u001b[0m             \u001b[0;32mfor\u001b[0m \u001b[0mword\u001b[0m\u001b[0;34m,\u001b[0m \u001b[0mcount\u001b[0m \u001b[0;32min\u001b[0m \u001b[0mCounter\u001b[0m\u001b[0;34m(\u001b[0m\u001b[0mtokenized\u001b[0m\u001b[0;34m[\u001b[0m\u001b[0mdoc\u001b[0m\u001b[0;34m]\u001b[0m\u001b[0;34m)\u001b[0m\u001b[0;34m.\u001b[0m\u001b[0mitems\u001b[0m\u001b[0;34m(\u001b[0m\u001b[0;34m)\u001b[0m\u001b[0;34m:\u001b[0m\u001b[0;34m\u001b[0m\u001b[0m\n\u001b[0;32m---> 37\u001b[0;31m                 \u001b[0mv\u001b[0m \u001b[0;34m=\u001b[0m \u001b[0;34m(\u001b[0m\u001b[0mself\u001b[0m\u001b[0;34m.\u001b[0m\u001b[0m__getitem__\u001b[0m\u001b[0;34m(\u001b[0m\u001b[0mword\u001b[0m\u001b[0;34m)\u001b[0m \u001b[0;34m*\u001b[0m \u001b[0mcount\u001b[0m\u001b[0;34m)\u001b[0m \u001b[0;34m/\u001b[0m \u001b[0;34m(\u001b[0m\u001b[0;36m1\u001b[0m \u001b[0;34m+\u001b[0m \u001b[0mself\u001b[0m\u001b[0;34m.\u001b[0m\u001b[0midf\u001b[0m\u001b[0;34m[\u001b[0m\u001b[0mword\u001b[0m\u001b[0;34m]\u001b[0m\u001b[0;34m)\u001b[0m\u001b[0;34m\u001b[0m\u001b[0m\n\u001b[0m\u001b[1;32m     38\u001b[0m                 \u001b[0;32mif\u001b[0m \u001b[0mvec\u001b[0m \u001b[0;32mis\u001b[0m \u001b[0;32mnot\u001b[0m \u001b[0;32mNone\u001b[0m\u001b[0;34m:\u001b[0m\u001b[0;34m\u001b[0m\u001b[0m\n\u001b[1;32m     39\u001b[0m                     \u001b[0mvec\u001b[0m \u001b[0;34m+=\u001b[0m \u001b[0mv\u001b[0m\u001b[0;34m\u001b[0m\u001b[0m\n",
      "\u001b[0;31mKeyboardInterrupt\u001b[0m: "
     ]
    }
   ],
   "source": [
    "x = vec.fit_transform(docs)"
   ]
  },
  {
   "cell_type": "code",
   "execution_count": null,
   "metadata": {},
   "outputs": [],
   "source": []
  }
 ],
 "metadata": {
  "kernelspec": {
   "display_name": "Python 3",
   "language": "python",
   "name": "python3"
  },
  "language_info": {
   "codemirror_mode": {
    "name": "ipython",
    "version": 3
   },
   "file_extension": ".py",
   "mimetype": "text/x-python",
   "name": "python",
   "nbconvert_exporter": "python",
   "pygments_lexer": "ipython3",
   "version": "3.6.6"
  },
  "toc": {
   "base_numbering": 1,
   "nav_menu": {},
   "number_sections": true,
   "sideBar": false,
   "skip_h1_title": true,
   "title_cell": "Table of Contents",
   "title_sidebar": "Contents",
   "toc_cell": false,
   "toc_position": {
    "height": "calc(100% - 180px)",
    "left": "10px",
    "top": "150px",
    "width": "165px"
   },
   "toc_section_display": true,
   "toc_window_display": false
  }
 },
 "nbformat": 4,
 "nbformat_minor": 2
}
